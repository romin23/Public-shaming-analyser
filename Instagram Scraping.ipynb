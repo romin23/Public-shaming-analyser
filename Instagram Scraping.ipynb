{
 "cells": [
  {
   "cell_type": "code",
   "execution_count": 1,
   "metadata": {},
   "outputs": [],
   "source": [
    "from selenium import webdriver\n",
    "import time\n",
    "from selenium import webdriver\n",
    "from selenium.webdriver.common.keys import Keys\n",
    "from selenium.webdriver.support import expected_conditions as EC\n",
    "from selenium.webdriver.common.by import By\n",
    "from selenium.webdriver.support.wait import WebDriverWait\n"
   ]
  },
  {
   "cell_type": "code",
   "execution_count": 6,
   "metadata": {},
   "outputs": [],
   "source": [
    "# # launch Chrome and navigate to Instagram page\n",
    "driver = webdriver.Chrome()\n",
    "driver.get(\"https://www.instagram.com/romin_23k/\")\n",
    "\n",
    "try:    \n",
    "    #target username\n",
    "    username = WebDriverWait(driver, 10).until(EC.element_to_be_clickable((By.CSS_SELECTOR, \"input[name='username']\")))\n",
    "    password = WebDriverWait(driver, 10).until(EC.element_to_be_clickable((By.CSS_SELECTOR, \"input[name='password']\")))\n",
    "\n",
    "    #enter username and password\n",
    "    username.clear()\n",
    "    username.send_keys(\"romin_23k\")\n",
    "    password.clear()\n",
    "    password.send_keys(\"9595113046\")\n",
    "\n",
    "    #target the login button and click it\n",
    "    button = WebDriverWait(driver, 2).until(EC.element_to_be_clickable((By.CSS_SELECTOR, \"button[type='submit']\"))).click()\n",
    "except :\n",
    "    pass\n",
    "\n",
    "# scroll to the bottom of the page\n",
    "lenOfPage = driver.execute_script(\"window.scrollTo(0, document.body.scrollHeight);var lenOfPage=document.body.scrollHeight;return lenOfPage;\")\n",
    "match=False\n",
    "while(match==False):\n",
    "    lastCount = lenOfPage\n",
    "    time.sleep(3)\n",
    "    lenOfPage = driver.execute_script(\"window.scrollTo(0, document.body.scrollHeight);var lenOfPage=document.body.scrollHeight;return lenOfPage;\")\n",
    "    if lastCount==lenOfPage:\n",
    "        match=True"
   ]
  },
  {
   "cell_type": "code",
   "execution_count": 3,
   "metadata": {},
   "outputs": [
    {
     "name": "stdout",
     "output_type": "stream",
     "text": [
      "['https://www.instagram.com/p/CSYs9uZjKiD/', 'https://www.instagram.com/p/CSWbZLijlIR/', 'https://www.instagram.com/p/CSWKCQVjQ0c/', 'https://www.instagram.com/p/CSTippgDy4W/', 'https://www.instagram.com/p/CSRT73TlJ6S/', 'https://www.instagram.com/p/CSQ_fGnlXIC/', 'https://www.instagram.com/p/CSQg-Cfl4J-/', 'https://www.instagram.com/p/CSObB3FlReu/', 'https://www.instagram.com/p/CSMmnGUFWO3/', 'https://www.instagram.com/p/CSMLFTxjmr9/', 'https://www.instagram.com/p/CSLzI6kDq3u/', 'https://www.instagram.com/p/CSJ8eMHF-1c/']\n"
     ]
    }
   ],
   "source": [
    "# find all links on the page and if they match '/p' append to list named posts\n",
    "posts = []\n",
    "links = driver.find_elements_by_tag_name('a')\n",
    "for link in links:\n",
    "    post = link.get_attribute('href')\n",
    "    if '/p/' in post:\n",
    "      posts.append( post )\n",
    "print( posts )"
   ]
  },
  {
   "cell_type": "code",
   "execution_count": 4,
   "metadata": {
    "scrolled": true
   },
   "outputs": [],
   "source": [
    "post_comment_dict = {}\n",
    "for link in range(len(posts)):\n",
    "    driver.get(posts[link])\n",
    "    sources = driver.page_source\n",
    "    sources = sources.split('\\n')\n",
    "    comment = []\n",
    "    \n",
    "    for lines in sources:\n",
    "        if '<script type=\"text/javascript\">window._sharedData' in lines:\n",
    "            comm_code = lines.split('window._sharedData')\n",
    "            comm_code = comm_code[1]\n",
    "            comm_code = comm_code[3:]\n",
    "            comm_code = comm_code.split(':')\n",
    "            for i in range(len(comm_code)):\n",
    "                if '\"text\"' in comm_code[i]:\n",
    "                    if '\"created_at\"' in comm_code[i+1]: \n",
    "                        comm = comm_code[i+1]\n",
    "                        comment.append(comm[0:-13])\n",
    "    post_comment_dict[f'Post {link+1}'] = set(comment)\n",
    "\n"
   ]
  },
  {
   "cell_type": "code",
   "execution_count": 5,
   "metadata": {},
   "outputs": [
    {
     "name": "stdout",
     "output_type": "stream",
     "text": [
      "Post 1 :\n",
      " {'\"Lovely\\\\ud83d\\\\ude0d\\\\ud83d\\\\ude0d\\\\ud83d\\\\ude0d\\\\ud83d\\\\ude0d\"', '\"Eder firni ta is my absolute favourite\\\\ud83d\\\\ude0d\"', '\"Drooling\"', '\"@the.gastronomical.voyage hmm maybe it can be tried . Thanks\\\\ud83d\\\\udc4f\"', '\"\\\\ud83d\\\\ude0d\"', '\"\\\\ud83d\\\\ude02\\\\ud83d\\\\ude02\\\\ud83d\\\\ude02\\\\ud83d\\\\ude02\\\\ud83d\\\\ude02\\\\ud83d\\\\ude0d\\\\u2764\\\\ufe0f\"', '\"\\\\ud83d\\\\udc4f\\\\ud83d\\\\udc4f\\\\ud83d\\\\udc4f\\\\ud83d\\\\udc4f\\\\ud83d\\\\udc4f\\\\ud83d\\\\udd25\\\\ud83d\\\\udd25\\\\ud83d\\\\udd25\\\\ud83d\\\\udd25\\\\ud83d\\\\udd25\"', '\"\\\\ud83d\\\\ude0d\\\\ud83d\\\\ude0d\"', '\"\\\\ud83d\\\\udc4c\\\\ud83d\\\\udc4c\\\\ud83d\\\\udc4c\\\\ud83e\\\\udd1d\\\\u2764\\\\ufe0f\"', '\"Wonderful\"', '\"This looks so tempting!\"', '\"Mouthwatering \\\\ud83e\\\\udd24\\\\ud83e\\\\udd24\"', '\"@theskinnybhukkad The one I make at home is however spicy enough to make anyone cry\\\\ud83e\\\\udd23\"', '\"Juicy chicken\\\\ud83d\\\\ude0d\"', '\"This looks tempting \\\\ud83d\\\\ude0d Iam drooling over it \\\\ud83e\\\\udd24\"', '\"Uff\\\\ud83d\\\\ude0d\\\\ud83d\\\\ude0d\"', '\"@the.gastronomical.voyage will use your tips to cook a similar one sometime\\\\ud83d\\\\udd25\"', '\"\\\\ud83d\\\\ude0d \\\\u0996\\\\u09c1\\\\u09ac \\\\u09b8\\\\u09c1\\\\u09a8\\\\u09cd\\\\u09a6\\\\u09b0 \\\\u09b9\\\\u0987\\\\u099b\\\\u09c7\\\\ud83d\\\\ude0d\"', '\"Ufffffb just lovonio\\\\ud83d\\\\udc4c\\\\ud83d\\\\ude0d\\\\ud83e\\\\udd24\\\\ud83d\\\\ude0d\"', '\"Drool worthy spread \\\\ud83d\\\\ude0d\"', '\"Waaah Waah \\\\ud83d\\\\ude0d\\\\ud83d\\\\ude0d\"', '\"\\\\ud83d\\\\ude0d\\\\ud83d\\\\ude0d\\\\ud83d\\\\ude0d\\\\ud83d\\\\ude0d\\\\ud83d\\\\ude0d\\\\ud83d\\\\ude0d\\\\ud83d\\\\ude0d\"', '\"Woww amazing\\\\ud83d\\\\ude0d\\\\ud83d\\\\ude0d\\\\ud83d\\\\ude0d\\\\u2764\\\\ufe0f\"', '\"Haven\\\\u2019t had even half decent chicken 65 here in Kolkata yet. But this seems like a good bet\\\\ud83d\\\\ude0d The authentic chicken 65 is extremely spicy and hits the tongue but generally this has never been the case with it in Kolkata\"', '\"Delicious\\\\ud83d\\\\udd25\\\\ud83d\\\\udd25\"', '\"\\\\ud83d\\\\ude0d\\\\ud83d\\\\ude0d\\\\ud83d\\\\ude0d\\\\ud83d\\\\ude0d\"'}\n",
      "Post 2 :\n",
      " {'\"Don\\\\u2019t buy you followers.\"', '\"@piloulou77 What? \\\\ud83d\\\\ude02\\\\ud83d\\\\ude02\\\\ud83d\\\\ude02\"', '\"@piloulou77 I dont need to buy followers. I am content with whatever number of followers I have. My reach speaks for itself and it proves that I do not buy followers. So please do your research before accusing me. \\\\ud83d\\\\ude0a\"'}\n",
      "Post 3 :\n",
      " {'\"Aha so beautiful\\\\ud83d\\\\ude0d\\\\ud83d\\\\ude0d will order soon from it\\\\ud83d\\\\ude0d\"', '\"Daruun\"', '\"@woolwichegad  bro\\\\ud83d\\\\ude42\\\\ud83e\\\\udd42\"', '\"Yummy\\\\ud83d\\\\ude0d\"', '\"\\\\ud83d\\\\udc4f\\\\ud83d\\\\udc4f\\\\ud83d\\\\udc4f\\\\ud83d\\\\udc4f\\\\ud83e\\\\udd24\\\\ud83e\\\\udd24\\\\ud83e\\\\udd24\\\\ud83e\\\\udd24\\\\ud83e\\\\udd24\\\\ud83e\\\\udd24\"', '\"I don\\'t even find the last slide rude. Whoever complained about it is just trying to gaslight u for the sake of it. Oder aar kaaj nei.\"', '\"Such a tempting platter\\\\ud83d\\\\ude0d\"', '\"@bidishaghosal Thank you for understanding always\\\\ud83e\\\\udd7a\\\\ud83e\\\\udd7a\\\\u2764\\\\ufe0f\\\\u2764\\\\ufe0f\"', '\"Wowww\\\\ud83d\\\\ude0d\\\\ud83d\\\\ude0d\\\\ud83d\\\\ude0d perfect\"', '\"I hate pork \\\\ud83d\\\\ude02\"', '\"Yummy\"', '\"@dipanwitadas35 \\\\ud83d\\\\udd25\\\\u2764\\\\ufe0f\"', '\"Such a beautiful post. And the last slide is so apt.\\\\ud83d\\\\udd25\"', '\"Wow\\\\ud83d\\\\udd25\"', '\"@rickypondin Haan\"', '\"\\\\ud83d\\\\ude0d\\\\ud83d\\\\ude0d\\\\ud83d\\\\ude0d\"', '\"@_.her_nobita._\"', '\"Woow\\\\ud83d\\\\udd25\"', '\"Didi, apni ki bangali ??\"', '\"\\\\u2764\\\\ufe0f\\\\ud83d\\\\udd25\\\\ud83d\\\\udd25\\\\ud83d\\\\udd25\\\\ud83d\\\\udd25\\\\ud83d\\\\ude1c\\\\ud83e\\\\udd2a\"', '\"Darun\\\\ud83d\\\\ude0d\"', '\"Woww so tempting and delicious \\\\ud83e\\\\udd24\\\\ud83d\\\\ude0b\\\\ud83d\\\\ude0d\"', '\"Yummy \\\\ud83d\\\\ude4c\\\\ud83d\\\\ude4c\"', '\"Pork momos are the best type of momos everrr!!! \\\\ud83d\\\\ude0d Try the one from The Big Byang!\"', '\"Amazing\\\\ud83d\\\\ude0d\\\\ud83d\\\\ude0d\"', '\"yummm look so delicious \\\\ud83d\\\\ude0dperfectly shot \\\\u2764\\\\ufe0f\\\\ud83d\\\\ude0b\"', '\"nice\"'}\n",
      "Post 4 :\n",
      " {'\"@pakhii_mayukhee Please check DM \\\\u2764\\\\ufe0f\"', '\"So yummy \\\\ud83d\\\\ude0b\\\\ud83d\\\\ude0b\\\\ud83d\\\\ude0b\"', '\"Woww\\\\ud83d\\\\ude0d\\\\ud83d\\\\ude0d delicious\\\\u2764\\\\ufe0f\\\\u2764\\\\ufe0f\"', '\"1 plate parcel please \\\\ud83d\\\\ude01\\\\ud83d\\\\ude01\\\\ud83e\\\\udd24\\\\ud83e\\\\udd24\\\\ud83e\\\\udd24\"', '\"Woow\\\\ud83d\\\\ude0d\\\\ud83d\\\\ude0d\\\\ud83d\\\\ude0d\\\\ud83d\\\\ude0d\\\\ud83d\\\\ude0d\"', '\"@jiasharma_97 Please check DM\\\\u2764\\\\ufe0f\"', '\"Tender \\\\ud83d\\\\ude09\"', '\"\\\\ud83d\\\\ude1b\\\\ud83d\\\\ude1b\\\\ud83d\\\\ude1b\\\\ud83d\\\\ude1b\\\\ud83d\\\\ude1b\\\\ud83d\\\\ude1b\\\\ud83d\\\\ude1b\\\\ud83d\\\\ude1b\\\\ud83d\\\\ude1b\"', '\"\\\\ud83d\\\\ude0d\\\\ud83d\\\\ude0d\"', '\"Just awesome \\\\u2764\\\\ufe0f\"', '\"Yummy\\\\ud83d\\\\ude0b\\\\ud83d\\\\ude0b\\\\ud83d\\\\ude0b\"', '\"Looks so delicious \\\\ud83d\\\\ude0d\"', '\"Can we get the recipe ?\\\\ud83d\\\\ude44\"', '\"Aap plate m jitta rkhte ho Pura kha Lete ho akele?\\\\ud83d\\\\ude02\\\\ud83d\\\\ude05#justpuchhing\\\\ud83d\\\\ude1b\"', '\"@babyqueen_chinnari Please check DM\\\\u2764\\\\ufe0f\"', '\"Sawan hai \\\\ud83d\\\\ude2d\\\\ud83d\\\\ude2d\\\\ud83d\\\\ude2d\"', '\"Make a video making this \\\\ud83d\\\\ude0d\"', '\"Can you please share the recipe\\\\ud83d\\\\ude0d\"', '\"@foodiegirlaisha__ Kaash khaa paati. Par nahi\\\\ud83d\\\\ude02\\\\ud83d\\\\ude02\\\\ud83d\\\\ude02 Itna khaake toh pet kharab hona hi hona hai \\\\ud83d\\\\ude02\\\\ud83d\\\\ude02\\\\ud83d\\\\ude02\\\\ud83d\\\\ude02\"', '\"Sawan me to chicken mtt dikhao... Mann krr jaata h yrr... aur Grh wale khane nhi dege iss time\\\\ud83d\\\\ude02\\\\ud83d\\\\ude02\"', '\"Absolutely amazing\\\\ud83d\\\\ude0d\\\\ud83d\\\\ude0d\\\\ud83d\\\\ude0d\"', '\"@an_anya8357 Please check DM \\\\u2764\\\\ufe0f\"', '\"Didiiii recipe chahiye mujhe\\\\ud83d\\\\ude2d\\\\ud83d\\\\ude2d\\\\ud83e\\\\udd24\\\\ud83e\\\\udd24\\\\ud83e\\\\udd24\"', '\"@dhir._ Already up on Youtube. Sharing the link. \\\\ud83d\\\\udc95\"', '\"@_anishaaaaaa_ Please check DM \\\\u2764\\\\ufe0f\"', '\"\\\\ud83d\\\\ude0d\\\\ud83d\\\\ude0d\\\\ud83d\\\\ude0d oh no \\\\ud83e\\\\udd24\\\\ud83e\\\\udd24\\\\ud83e\\\\udd24\\\\ud83e\\\\udd24\\\\ud83e\\\\udd24\\\\ud83e\\\\udd24\\\\ud83e\\\\udd24\"', '\"\\\\ud83d\\\\ude0d gorgeous\"', '\"@the.gastronomical.voyage \\\\ud83d\\\\ude04\\\\ud83d\\\\ude04\\\\ud83d\\\\ude04\\\\ud83d\\\\ude05\"', '\"Please share this recipe... \\\\ud83d\\\\ude4f\"', '\"@the.gastronomical.voyage tysm\\\\ud83d\\\\ude0d\"', '\"Please share the recipe\\\\ud83d\\\\ude0d\"', '\"\\\\ud83d\\\\udd25\\\\ud83d\\\\udd25\\\\ud83d\\\\udd25\\\\ud83d\\\\udd25\"', '\"\\\\u2764\\\\ufe0f want\"'}\n",
      "Post 5 :\n",
      " {'\"Wow \\\\ud83d\\\\udd25\"', '\"So yummy\\\\ud83d\\\\ude0d\\\\ud83d\\\\ude0d\"', '\"Awesome angle! \\\\ud83d\\\\ude0d Brilliant stuff!\"', '\"\\\\u2764\\\\ufe0f\\\\u2764\\\\ufe0f\\\\u2764\\\\ufe0f\\\\u2764\\\\ufe0f\\\\u2764\\\\ufe0f\\\\u2764\\\\ufe0f\\\\u2764\\\\ufe0f\\\\u2764\\\\ufe0f\\\\u2764\\\\ufe0f\\\\u2764\\\\ufe0f\\\\u2764\\\\ufe0f\\\\u2764\\\\ufe0f\\\\u2764\\\\ufe0f\"', '\"\\\\ud83d\\\\ude0d\\\\ud83d\\\\ude0d\\\\ud83d\\\\ude0d\\\\ud83d\\\\ude0d\"', '\"\\\\ud83d\\\\udd25\\\\ud83d\\\\udd25\\\\ud83d\\\\udd25\\\\ud83d\\\\udd25\\\\ud83d\\\\udd25\\\\ud83d\\\\udc4f\\\\ud83d\\\\udc4f\\\\ud83d\\\\udc4f\\\\ud83d\\\\udc4f\"', '\"Superb\"', '\"Uff ki darun\\\\u2764\\\\ufe0f\"', '\"u r \\\\u0b85\\\\u0bb0\\\\u0bc1\\\\u0bae\\\\u0bc8\\\\u2764\\\\ufe0f\"', '\"I\\'m Weekending without meat \\\\ud83d\\\\ude22\"', '\"\\\\ud83d\\\\ude0d\\\\ud83d\\\\ude0d\\\\ud83d\\\\ude0d\"', '\"Ajke paneer kheye esob Dekha ami\\\\ud83d\\\\ude22\"', '\"Durdanto \\\\ud83d\\\\ude0d\"', '\"\\\\u2764\\\\ufe0f\\\\u2764\\\\ufe0f\\\\u2764\\\\ufe0f\\\\u2764\\\\ufe0f\\\\u2764\\\\ufe0f\"', '\"Best\\\\ud83d\\\\ude0d\\\\ud83d\\\\ude0d\\\\ud83d\\\\ude0d\"', '\"Weekending in short outing \\\\ud83d\\\\ude04\"'}\n",
      "Post 6 :\n",
      " {'\"I reckon a comment from a vegan or vegetarian is on the way stating why you shouldn\\'t eat fish or meat lmao!\"', '\"As usual tempting\\\\ud83d\\\\ude0d\"', '\"\\\\ud83d\\\\ude4c\\\\u2764\\\\ufe0f\"', '\"pabda\"', '\"This looks amazing \\\\ud83d\\\\ude0d\\\\ud83d\\\\ude0d, drooling over it \\\\ud83e\\\\udd24\\\\ud83e\\\\udd24\"', '\"Delightful spread\\\\ud83d\\\\ude0d\"', '\"\\\\u0986\\\\u09b8\\\\u09ac\\\\u09cb \\\\u09a8\\\\u09be\\\\u0995\\\\u09bf \\\\u0996\\\\u09be\\\\u0987\\\\u09a4\\\\u09c7\"', '\"\\\\ud83d\\\\ude0d\\\\ud83d\\\\ude0d\"', '\"Delicious meal\"', '\"Mach ta uff\\\\ud83d\\\\ude0d\"', '\"\\\\u2764\\\\ufe0f\\\\u2764\\\\ufe0f\\\\u2764\\\\ufe0f\\\\u2764\\\\ufe0f\\\\u2764\\\\ufe0f\\\\u2764\\\\ufe0f\\\\u2764\\\\ufe0f\\\\u2764\\\\ufe0f\\\\u2764\\\\ufe0f\\\\u2764\\\\ufe0f\\\\u2764\\\\ufe0f\\\\u2764\\\\ufe0f\\\\u2764\\\\ufe0f\"', '\"This Looks Perfect \\\\ud83d\\\\ude03\\\\ud83d\\\\ude03\\\\ud83d\\\\ude01\\\\ud83d\\\\ude4c\\\\ud83d\\\\udc4d\\\\ud83d\\\\udc4d\\\\ud83d\\\\udc4d\\\\ud83d\\\\udc4d\"', '\"Perfect lunch\\\\ud83d\\\\ude0d\\\\ud83d\\\\ude0d\"', '\"Erokom thalay to hostel gulo te khete daye \\\\ud83d\\\\ude02\"', '\"Nom nom\\\\ud83e\\\\udd24\"', '\"Send some of that fish to me \\\\ud83e\\\\udd27 they stopped bring that type here since COVID started\"', '\"\\\\u2764\\\\ufe0f\\\\ud83d\\\\udc4d\\\\ud83d\\\\udc4c\\\\ud83c\\\\udf6b\\\\ud83d\\\\udc9e\"', '\"That\\'s the exact way our dinner looked at NIT Canteen.\"', '\"Perfectly Bengoli food. Simple yet deligent\"', '\"Really diligent\"'}\n",
      "Post 7 :\n",
      " set()\n",
      "Post 8 :\n",
      " {'\"\\\\u2763\\\\ufe0f\\\\u2763\\\\ufe0f\"', '\"@its.aditya.520 I have gotten tired of people stealing and posting my content. Every morning I have to spend a good amount of time pleading people to take down the pictures that belong to me and also reporting them when they do not listen to me. There are repost pages who have bad mouthed me because I have asked them to remove my content they have reposted. I am sure you wouldn\\\\u2019t be able to keep your cool if you were in my situation. I cannot go through rude behaviour and bad mouthing from people every other morning. I am sorry if you find this extremely rude but this is far better than what I go through at times. Also, you\\\\u2019ll be surprised to know that people still repost after I have started putting the last slide and also include in my caption about not reposting. What do you think is a better way to deal with this lot of adamant people? Please let me know if you have better ideas.\"', '\"Amazing\\\\ud83d\\\\ude0d\\\\ud83d\\\\ude0d\\\\ud83d\\\\ude0d\"', '\"\\\\u2764\\\\ufe0f\\\\u2764\\\\ufe0f\\\\u2764\\\\ufe0f\\\\u2764\\\\ufe0f\\\\ud83d\\\\udd25\\\\ud83d\\\\udd25\\\\ud83d\\\\udd25\\\\ud83d\\\\ude4c\\\\ud83d\\\\ude4c\\\\ud83d\\\\udc4f\\\\ud83d\\\\udc4f\\\\ud83d\\\\udc4f\\\\ud83d\\\\udc4f\"', '\"Mutton biryani just wow \\\\u2764\\\\ufe0f\\\\u2764\\\\ufe0f\\\\u2764\\\\ufe0f\\\\u2764\\\\ufe0f\"', '\"\\\\ud83e\\\\udd24\\\\ud83e\\\\udd24\\\\u2764\\\\ufe0f\"', '\"\\\\u0986\\\\u09ae\\\\u09bf \\\\u0996\\\\u09be\\\\u09ac\\\\u09cb \\\\u099a\\\\u09b2\\\\u09c7 \\\\u0986\\\\u099b\\\\u09ac\\\\u09cb \\\\u09a4\\\\u09cb\\\\u09ae\\\\u09be\\\\u09a6\\\\u09c7\\\\u09b0 \\\\u09ac\\\\u09be\\\\u09b8\\\\u09be\\\\u0987 \\\\ud83c\\\\udde6\\\\ud83c\\\\uddea\\\\u2708\\\\ufe0f\\\\ud83c\\\\udde7\\\\ud83c\\\\udde9\"', '\"Tempting\\\\ud83d\\\\ude0d\"', '\"@shubh._.srivastava\"', '\"@anmol_8506 \\\\ud83d\\\\ude02\"', '\"\\\\ud83d\\\\ude0d\"', '\"Beautiful spread \\\\ud83d\\\\ude0d\"', '\"This looks amazing\\\\ud83d\\\\ude0d\\\\ud83d\\\\ude0d, Drooling over it \\\\ud83e\\\\udd24\"', '\"Miss this days \\\\ud83d\\\\ude0d\\\\u2764\\\\ufe0f\"', '\"Yummyyyyy\\\\ud83d\\\\ude0b\\\\ud83d\\\\ude0b\\\\ud83d\\\\ude0b\\\\ud83d\\\\ude0b\"', '\"Yeah you have a right for your copyright... But the last slide was too much rude... I don\\'t mean to repost it but it is too much rude to read that...\"', '\"\\\\ud83d\\\\ude0d\\\\ud83d\\\\ude0d\\\\ud83d\\\\ude0d\\\\ud83d\\\\ude0dyumm\"', '\"@the.gastronomical.voyage I fully understand your situation when someone stealing your works... But sorry to say that it is almost impossible to disallow everyone repost having a public profile...\"', '\"\\\\ud83d\\\\udd25\\\\ud83d\\\\udd25\\\\ud83d\\\\udd25\\\\ud83d\\\\udd25\\\\ud83d\\\\udd25\"', '\"Woww great capture \\\\ud83d\\\\udc4c\\\\ud83d\\\\ude0d\\\\u2764\\\\ufe0f\"', '\"\\\\ud83d\\\\ude0b\\\\ud83d\\\\ude0b\"', '\"\\\\ud83d\\\\ude0d\\\\ud83d\\\\ude0d\\\\ud83d\\\\ude0d\"', '\"Drooling \\\\ud83e\\\\udd24\\\\ud83e\\\\udd24\"', '\"@shyamalividya \\\\ud83d\\\\ude0d\\\\ud83d\\\\ude0d\"', '\"Biryani is Love \\\\ud83d\\\\ude0d\\\\u2764\\\\ufe0f\"', '\"\\\\ud83d\\\\udd25\\\\ud83d\\\\udd25\\\\ud83d\\\\udd25\\\\u2764\\\\ufe0f\\\\u2764\\\\ufe0f\\\\u2764\\\\ufe0f\\\\u2764\\\\ufe0flove\"', '\"@its.aditya.520 Well, i will try my best to prevent whatever I can. Reposting rate of my work has gone down honestly. So this works.\"'}\n",
      "Post 9 :\n",
      " {'\"Beautiful\\\\ud83d\\\\ude0d\\\\ud83d\\\\ude0d\"', '\"Aunty \\\\u2764\\\\ufe0f\\\\u2764\\\\ufe0f\"', '\"\\\\u2764\\\\ufe0f\\\\u2764\\\\ufe0f\"', '\"Besh meel ache! \\\\ud83d\\\\ude0d\"', '\"Beautiful pretty sweet album,thank you for sharing a moment \\\\ud83d\\\\udc4f\\\\ud83d\\\\udc4f\\\\ud83d\\\\udc4f\\\\u2764\\\\ud83d\\\\udc9e\\\\ud83d\\\\udc9e\\\\ud83d\\\\udc4c\\\\ud83d\\\\udc4c\\\\ud83d\\\\udc4c\\\\ud83d\\\\udc4c\\\\ud83d\\\\udc4c\\\\ud83d\\\\udc4c\\\\ud83d\\\\udc4c\"', '\"\\\\u2764\\\\ufe0f\"', '\"\\\\ud83d\\\\ude0d\"', '\"Smile \\\\ud83d\\\\ude0d\\\\ud83d\\\\ude0d\\\\ud83d\\\\ude0d\"', '\"ur mom is more beautiful\"', '\"Both of you are wonderful\"', '\"\\\\u2665\\\\ufe0f\\\\u2764\\\\ufe0f\"', '\"OMG the resemblance.  Your mom is a beautiful lady and very elegant.  Kinda reminds me of mine\"', '\"Bah aunty k toh Bes sundor lag6e\\\\u2764\\\\ufe0f\\\\u2764\\\\ufe0f\"', '\"Maaf karna dost \\\\ud83d\\\\ude4f ur mom was much prettier \\\\ud83d\\\\ude2e than you in green saree specially \\\\u2764\\\\ufe0f\"', '\"Superb, your mom is really beautiful and elegant and you too my gorgeous friend \\\\u2764\\\\ufe0f\\\\u2764\\\\ufe0f\\\\ud83d\\\\ude0d\\\\ud83d\\\\ude0d\\\\ud83d\\\\udc90\\\\ud83d\\\\udc90\"', '\"Too copy of your mother \\\\ud83d\\\\udc4d\\\\ud83d\\\\udc4d\"', '\"\\\\u2764\\\\ufe0f\\\\ud83d\\\\ude4f\\\\ud83c\\\\udffb\"', '\"Food SE BHI jyada laziz\\\\u2764\\\\ufe0f\\\\u2764\\\\ufe0f\"', '\"\\\\ud83d\\\\ude0d\\\\ud83d\\\\ude0d\\\\ud83d\\\\ude0d\"', '\"Looking so hot dear\\\\ud83d\\\\udd25\\\\ud83d\\\\udd25\\\\ud83d\\\\udd25\"', '\"\\\\ud83d\\\\udd25\\\\ud83d\\\\udd25\\\\ud83d\\\\udd25\\\\ud83d\\\\udd25\\\\u2764\\\\ufe0f\\\\u2764\\\\ufe0f\\\\u2764\\\\ufe0f\\\\u2764\\\\ufe0f\"', '\"Bhai ham toh Old school wale hain toh Old school walon ki hi tarif karenge\\\\ud83d\\\\ude0d\\\\ud83d\\\\ude4f\\\\ud83d\\\\ude05\\\\ud83d\\\\udc83 Best reels ever...\\\\u2764\\\\ud83d\\\\ude4c\"', '\"\\\\u2764\\\\ufe0f\\\\u2764\\\\ufe0f\\\\u2764\\\\ufe0f\\\\ud83d\\\\ude0d\\\\ud83d\\\\ude0d\\\\ud83d\\\\ude0d\\\\ud83d\\\\udc4f\\\\ud83d\\\\udc4f\\\\ud83d\\\\udc4f\"', '\"\\\\u2764\\\\ufe0f\\\\u2764\\\\ufe0f\\\\ud83d\\\\ude0d\\\\ud83d\\\\ude0d\\\\ud83d\\\\ude0d\\\\u2764\\\\ufe0f\\\\u2764\\\\ufe0f\\\\ud83d\\\\udc95\\\\ud83d\\\\udc95\\\\ud83d\\\\udc95\\\\ud83d\\\\udc95\"'}\n",
      "Post 10 :\n",
      " {'\"Follow my page @_dimple_jaiswal for food related concept, homemade food and more\\\\ud83d\\\\ude0b\"', '\"You deserve! \\\\ud83d\\\\udc4f\\\\ud83d\\\\udc4d\"', '\"Ur too cute\\\\ud83d\\\\ude0d\"', '\"\\\\ud83d\\\\ude0d\\\\ud83d\\\\ude0d\"', '\"Congratulations \\\\ud83d\\\\udc4f\"', '\"\\\\u2764\\\\ufe0f\\\\ud83d\\\\udc4f\\\\ud83d\\\\udc4f\\\\ud83d\\\\ude0d\\\\ud83d\\\\ude0d\"', '\"\\\\ud83d\\\\ude0d\\\\ud83d\\\\ude0d\\\\ud83d\\\\ude0d\\\\ud83d\\\\ude0d\\\\ud83d\\\\ude0d\\\\ud83d\\\\ude0d\\\\ud83d\\\\ude0d\\\\ud83d\\\\ude0d\\\\ud83d\\\\ude0d\\\\ud83d\\\\ude0d\\\\ud83d\\\\ude0d\\\\ud83d\\\\ude0d\"', '\"\\\\u2764\\\\ufe0f\\\\u2764\\\\ufe0f\\\\ud83d\\\\ude4c\"', '\"\\\\ud83d\\\\ude0d\\\\ud83d\\\\udc4f\"', '\"Cute smile bowled me out and many others for sure\"', '\"Permanent followers badwane k liye msg\\\\ud83d\\\\udd25kroooooooooooooo\"'}\n",
      "Post 11 :\n",
      " {'\"Yum \\\\u2764\\\\ufe0f\\\\ud83d\\\\ude0d\"', '\"So tasty \\\\ud83d\\\\ude0d\\\\u2764\\\\ufe0f\\\\u2764\\\\ufe0f\\\\u2764\\\\ufe0f\"', '\"Wow\\\\ud83d\\\\ude0d\"', '\"Stop hurting animals life\"', '\"Wow\\\\ud83d\\\\ude0d\\\\ud83d\\\\ude0d\"', '\"Yummy\\\\u2764\\\\ufe0f\"', '\"\\\\ud83d\\\\ude0d\"', '\"\\\\ud83d\\\\ude0b\\\\ud83d\\\\ude0b\\\\ud83d\\\\ude0b\"', '\"\\\\ud83d\\\\ude0d\\\\ud83d\\\\ude0d\"', '\"@isht_1985\"', '\"Ki byapok lagche\\\\ud83d\\\\ude0d\\\\u2764\\\\ufe0f\"', '\"\\\\ud83d\\\\ude0d\\\\ud83d\\\\ude0d\\\\ud83d\\\\ude0d\\\\u2764\\\\ufe0f\\\\ud83d\\\\udc4f\"', '\"Wow\\\\ud83d\\\\ude0d\\\\ud83d\\\\ude4c\"', '\"\\\\ud83d\\\\ude0b\\\\ud83d\\\\ude0b\"', '\"\\\\ud83d\\\\ude0d\\\\ud83d\\\\ude0d\\\\ud83d\\\\ude0d\"', '\"Mouthwatering!! \\\\ud83e\\\\udd24\\\\ud83e\\\\udd24\"', '\"So yummy\\\\ud83d\\\\ude0d\\\\ud83d\\\\ude0d\"', '\"\\\\u2764\\\\ufe0f\\\\ud83e\\\\udd24\"', '\"Wow\"', '\"Superb\"', '\"It\\'s too much yemmee \\\\u2764\\\\ufe0f\\\\ud83d\\\\udd25\\\\ud83d\\\\ude0d\"', '\"Follow my page @_dimple_jaiswal for food related concept, homemade food and more\\\\ud83d\\\\ude0b\"'}\n",
      "Post 12 :\n",
      " {'\"\\\\ud83d\\\\ude4c\\\\ud83d\\\\ude4c\\\\ud83d\\\\ude4c\\\\ud83d\\\\ude4c\\\\ud83d\\\\ude4c\"', '\"\\\\ud83c\\\\udfa7\\\\ud83d\\\\udc83\\\\ud83d\\\\ude0d\\\\ud83d\\\\ude0d\\\\ud83d\\\\ude4c\\\\ud83d\\\\ude4c\"', '\"Nice song\\\\ud83d\\\\udc4c\"', '\"\\\\ud83d\\\\ude0d\\\\ud83d\\\\ude0d\"', '\"Is that you voice? It\\'s beautiful\\\\u2764\\\\ufe0f\"', '\"\\\\ud83d\\\\ude22\\\\ud83d\\\\ude22when when n where where?\"', '\"Plan to mera bhi done hai . South jaa raha hu mai ghumne \\\\ud83d\\\\ude02\\\\ud83d\\\\ude02\"', '\"Wow\\\\ud83d\\\\ude0d\"', '\"Sister \\\\ud83c\\\\udf89 \\\\u270c\\\\ufe0f\\\\ud83d\\\\udc4c\\\\ud83d\\\\udc4c nice\"', '\"Wow beautiful like appni\\\\ud83c\\\\udf39\\\\u2764\\\\ud83d\\\\udc4f\\\\ud83d\\\\udc4f\\\\ud83d\\\\udc4f\\\\ud83d\\\\udc4f\"', '\"Nice \\\\ud83d\\\\udc4c beautiful view\"', '\"Really\\\\ud83d\\\\ude22\"', '\"\\\\u2764\\\\ufe0f\\\\u2764\\\\ufe0f\\\\ud83d\\\\ude0d\\\\ud83d\\\\ude0d\\\\ud83d\\\\ude0d\"', '\"Waiting to travel again! Mostly w/o mask (whenever that magical day comes) \\\\ud83d\\\\ude22\\\\ud83d\\\\ude22 ur reel is \\\\ud83d\\\\ude0d\\\\ud83d\\\\ude0d\\\\u2764\\\\ufe0f helping virtually for now.\"', '\"\\\\u2764\\\\ufe0f\\\\u2764\\\\ufe0f\\\\ud83d\\\\udd25\\\\ud83d\\\\ude0d\\\\ud83d\\\\ude0d\"', '\"\\\\ud83d\\\\ude2e\\\\ud83d\\\\ude2e\\\\ud83d\\\\ude2e\\\\ud83d\\\\udd25\"', '\"Making me feel like going there right now\\\\ud83d\\\\ude22\"'}\n"
     ]
    }
   ],
   "source": [
    "for k,v in post_comment_dict.items():\n",
    "    print(k,':\\n',v)"
   ]
  },
  {
   "cell_type": "code",
   "execution_count": null,
   "metadata": {},
   "outputs": [],
   "source": []
  }
 ],
 "metadata": {
  "kernelspec": {
   "display_name": "Python 3",
   "language": "python",
   "name": "python3"
  },
  "language_info": {
   "codemirror_mode": {
    "name": "ipython",
    "version": 3
   },
   "file_extension": ".py",
   "mimetype": "text/x-python",
   "name": "python",
   "nbconvert_exporter": "python",
   "pygments_lexer": "ipython3",
   "version": "3.8.5"
  }
 },
 "nbformat": 4,
 "nbformat_minor": 4
}
