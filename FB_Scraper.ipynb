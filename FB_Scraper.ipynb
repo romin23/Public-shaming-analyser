{
 "cells": [
  {
   "cell_type": "code",
   "execution_count": 1,
   "metadata": {},
   "outputs": [],
   "source": [
    "#imports here\n",
    "from selenium import webdriver\n",
    "from selenium.webdriver.common.keys import Keys\n",
    "from selenium.webdriver.support import expected_conditions as EC\n",
    "from selenium.webdriver.common.by import By\n",
    "from selenium.webdriver.support.wait import WebDriverWait\n",
    "import time"
   ]
  },
  {
   "cell_type": "code",
   "execution_count": 2,
   "metadata": {},
   "outputs": [],
   "source": [
    "#code by pythonjar, not me\n",
    "chrome_options = webdriver.ChromeOptions()\n",
    "prefs = {\"profile.default_content_setting_values.notifications\" : 2}\n",
    "chrome_options.add_experimental_option(\"prefs\",prefs)"
   ]
  },
  {
   "cell_type": "code",
   "execution_count": 3,
   "metadata": {},
   "outputs": [
    {
     "name": "stderr",
     "output_type": "stream",
     "text": [
      "<ipython-input-3-8315730bdda6>:2: DeprecationWarning: use options instead of chrome_options\n",
      "  driver = webdriver.Chrome('C:/Windows/chromedriver.exe', chrome_options=chrome_options)\n"
     ]
    }
   ],
   "source": [
    "#specify the path to chromedriver.exe (download and save on your computer)\n",
    "driver = webdriver.Chrome('C:/Windows/chromedriver.exe', chrome_options=chrome_options)\n",
    "\n",
    "#open the webpage\n",
    "driver.get(\"http://www.facebook.com\")\n",
    "\n",
    "#target username\n",
    "username = WebDriverWait(driver, 10).until(EC.element_to_be_clickable((By.CSS_SELECTOR, \"input[name='email']\")))\n",
    "password = WebDriverWait(driver, 10).until(EC.element_to_be_clickable((By.CSS_SELECTOR, \"input[name='pass']\")))\n",
    "\n",
    "#enter username and password\n",
    "username.clear()\n",
    "username.send_keys(\"username\")\n",
    "password.clear()\n",
    "password.send_keys(\"password\")\n",
    "\n",
    "#target the login button and click it\n",
    "button = WebDriverWait(driver, 2).until(EC.element_to_be_clickable((By.CSS_SELECTOR, \"button[type='submit']\"))).click()\n",
    "\n",
    "#We are logged in!"
   ]
  },
  {
   "cell_type": "code",
   "execution_count": 4,
   "metadata": {},
   "outputs": [
    {
     "name": "stdout",
     "output_type": "stream",
     "text": [
      "Post 26 :\n",
      " {'\"#superb_bro\"'}\n",
      "Post 27 :\n",
      " {'\"Thx dear\"', '\"Nice pic.\"', '\"Smart Mummy And Son\\\\ud83d\\\\udc4c\\\\ud83d\\\\udc4c\"', '\"Nice pic mam\"', '\"gorgeous mom with handsome son\"', '\"Nice.\"'}\n",
      "Post 28 :\n",
      " {'\"Kaha masti Ho Rahi hai\"', '\"Saras\\\\ud83d\\\\udc4c\"', '\"Squad be like\\\\ud83c\\\\udf7a\\\\ud83c\\\\udf7a\"', '\"MY PEOPLE\\\\ud83d\\\\ude4c\"', '\"Lovely nice pic my babe..\"'}\n",
      "Post 30 :\n",
      " {'\"Enjoy \\\\ud83d\\\\ude0a\"', '\"Deep or deep\"', '\"These are the days brother and we have got a lot more left and yes we are going to make them count Ravish Dhawan Shubham Saboo Sarvesh Thakre Rahul Dangre Rishi Atharva Khandelwal Amit Tiwari Romin Katre Ayush Jha Dhawal Etankar\"', '\"Viki baby\\\\ud83d\\\\ude18\"'}\n",
      "Post 31 :\n",
      " {'\"\\\\ud83d\\\\ude02\\\\ud83d\\\\ude02\\\\ud83d\\\\ude02\\\\ud83d\\\\ude02\\\\ud83d\\\\ude02\\\\ud83d\\\\ude02\"', '\"Rahul tu kaha h isme\\\\ud83d\\\\udc40\"', '\"Acche se dekh \\\\ud83d\\\\ude11\\\\ud83d\\\\ude11 Aksha Patil\"', '\"Tu bhi deep dede\\\\ud83d\\\\ude02\"'}\n",
      "Post 32 :\n",
      " {'\"Ssly ...wat a day ...awsm one\"', '\"Caption mere phone se chap chap k likha hai bc \\\\ud83d\\\\ude02\\\\ud83d\\\\ude02\\\\ud83d\\\\ude02\"', '\"What a day guys\\\\ud83d\\\\ude18\"', '\"\\\\ud83d\\\\ude02\\\\ud83d\\\\ude02\\\\ud83d\\\\ude02\"', '\"Woww Ravita Ma\\'am is impressed\\\\ud83d\\\\ude02\\\\ud83d\\\\udd25\"', '\"Bhai pic credit... Maine khichi\"'}\n",
      "Post 33 :\n",
      " {'\"Happy Frndshp day Bhai......\"', '\"Hapie frnship day \\\\ud83d\\\\ude18 \\\\ud83d\\\\ude18\"', '\"Nice g......\"', '\"omg I got it!!!\\\\nthat was the surprise u was talking about!!!\\\\nohh God dude its a lovely one n I really loved this one!! ', '\"Happy birthday Bhai \\\\ud83d\\\\ude1c\\\\nHappy friendship day bro\\\\nAnd to everyone else too\"'}\n"
     ]
    }
   ],
   "source": [
    "#wait 5 seconds to allow your new page to load\n",
    "time.sleep(2)\n",
    "images = [] \n",
    "#itterate over both uploaded and tagged images respectively\n",
    "post_comment_dict = {}\n",
    "count = 0\n",
    "for i in [\"photos_by\", \"photos_of\"]:\n",
    "    driver.get(\"https://www.facebook.com/romin.katre.1/\" + i + \"/\")\n",
    "    time.sleep(2)\n",
    "    \n",
    "    #scroll down\n",
    "    #increase the range to sroll more\n",
    "    #example: range(0,10) scrolls down 650+ images\n",
    "    for j in range(0,1):\n",
    "        driver.execute_script(\"window.scrollTo(0, document.body.scrollHeight);\")\n",
    "        time.sleep(2)\n",
    "\n",
    "    #target all the link elements on the page\n",
    "    anchors = driver.find_elements_by_tag_name('a')\n",
    "    anchors = [a.get_attribute('href') for a in anchors]\n",
    "    #narrow down all links to image links only\n",
    "    anchors = [a for a in anchors if str(a).startswith(\"https://www.facebook.com/photo\")]\n",
    "\n",
    "    \n",
    "    post_comment_dict = {}\n",
    "    for a in range(len(anchors)):\n",
    "        count+=1\n",
    "        driver.get(anchors[a]) #navigate to link\n",
    "        time.sleep(2) #wait a bit        \n",
    "        sources = driver.page_source\n",
    "        sources = sources.split('\\n')\n",
    "        for lines in range(len(sources)):\n",
    "            comments = []\n",
    "            if '\"comment_upper_badge_renderer\"' in sources[lines]:\n",
    "                comm_code = sources[lines].split(':')\n",
    "                for i in range(len(comm_code)):\n",
    "                    if '\"text\"' in comm_code[i]:\n",
    "                        comm = comm_code[i+1]\n",
    "                        comm = comm.split(',')\n",
    "                        comm = comm[0]\n",
    "                        if  not('Commenting has been turned off' in comm):\n",
    "                            if comm.endswith('}'):\n",
    "                                comm = comm[0:-1]\n",
    "                            comments.append(comm)\n",
    "                post_comment_dict[f'Post {count}'] = set(comments)\n",
    "for k,v in post_comment_dict.items():\n",
    "    print(k,':\\n',v)\n",
    "\n"
   ]
  }
 ],
 "metadata": {
  "kernelspec": {
   "display_name": "Python 3",
   "language": "python",
   "name": "python3"
  },
  "language_info": {
   "codemirror_mode": {
    "name": "ipython",
    "version": 3
   },
   "file_extension": ".py",
   "mimetype": "text/x-python",
   "name": "python",
   "nbconvert_exporter": "python",
   "pygments_lexer": "ipython3",
   "version": "3.8.5"
  }
 },
 "nbformat": 4,
 "nbformat_minor": 4
}
