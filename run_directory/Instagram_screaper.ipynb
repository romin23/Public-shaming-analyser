{
 "cells": [
  {
   "cell_type": "code",
   "execution_count": 1,
   "metadata": {},
   "outputs": [],
   "source": [
    "from selenium import webdriver\n",
    "import time\n",
    "from selenium import webdriver\n",
    "from selenium.webdriver.common.keys import Keys\n",
    "from selenium.webdriver.support import expected_conditions as EC\n",
    "from selenium.webdriver.common.by import By\n",
    "import pprint\n",
    "from selenium.webdriver.support.wait import WebDriverWait"
   ]
  },
  {
   "cell_type": "code",
   "execution_count": 3,
   "metadata": {},
   "outputs": [],
   "source": [
    "# url https://www.instagram.com/hatespeechproject_/\n",
    "#  https://www.instagram.com/romin_23k/"
   ]
  },
  {
   "cell_type": "code",
   "execution_count": 21,
   "metadata": {},
   "outputs": [],
   "source": [
    "# # launch Chrome and navigate to Instagram page\n",
    "def get_post_links(user, passcode, ig_url):\n",
    "    ig_url = ig_url\n",
    "    driver = webdriver.Chrome()\n",
    "    driver.delete_cookie('romin_23k')\n",
    "    driver.delete_cookie('9456746756')\n",
    "    # driver.get(\"https://www.instagram.com/\")\n",
    "    driver.get(ig_url)\n",
    "\n",
    "    try:    \n",
    "        #target username\n",
    "        username = WebDriverWait(driver, 10).until(EC.element_to_be_clickable((By.CSS_SELECTOR, \"input[name='username']\")))\n",
    "        password = WebDriverWait(driver, 10).until(EC.element_to_be_clickable((By.CSS_SELECTOR, \"input[name='password']\")))\n",
    "\n",
    "        #enter username and password\n",
    "        username.clear()\n",
    "        # username.send_keys(\"ig username\")\n",
    "        username.send_keys(user)\n",
    "        password.clear()\n",
    "        # password.send_keys(\"password\")\n",
    "        password.send_keys(passcode)\n",
    "\n",
    "        #target the login button and click it\n",
    "        button = WebDriverWait(driver, 2).until(EC.element_to_be_clickable((By.CSS_SELECTOR, \"button[type='submit']\"))).click()\n",
    "    except :\n",
    "        pass\n",
    "\n",
    "    # scroll to the bottom of the page\n",
    "    lenOfPage = driver.execute_script(\"window.scrollTo(0, document.body.scrollHeight);var lenOfPage=document.body.scrollHeight;return lenOfPage;\")\n",
    "    match=False\n",
    "    while(match==False):\n",
    "        lastCount = lenOfPage\n",
    "        time.sleep(3)\n",
    "        lenOfPage = driver.execute_script(\"window.scrollTo(0, document.body.scrollHeight);var lenOfPage=document.body.scrollHeight;return lenOfPage;\")\n",
    "        if lastCount==lenOfPage:\n",
    "            match=True\n",
    "\n",
    "    # find all links on the page and if they match '/p' append to list named posts\n",
    "    post_links = []\n",
    "    links = driver.find_elements_by_tag_name('a')\n",
    "    for link in links:\n",
    "        post = link.get_attribute('href')\n",
    "        if '/p/' in post:\n",
    "          post_links.append( post )\n",
    "    return post_links"
   ]
  }
 ],
 "metadata": {
  "interpreter": {
   "hash": "015a100ea20bce277e6feeff98c6ce0c4728cd109b62b430dca040f8497ac8e9"
  },
  "kernelspec": {
   "display_name": "Python 3.8.5 64-bit ('base': conda)",
   "name": "python3"
  },
  "language_info": {
   "codemirror_mode": {
    "name": "ipython",
    "version": 3
   },
   "file_extension": ".py",
   "mimetype": "text/x-python",
   "name": "python",
   "nbconvert_exporter": "python",
   "pygments_lexer": "ipython3",
   "version": "3.8.5"
  }
 },
 "nbformat": 4,
 "nbformat_minor": 4
}
